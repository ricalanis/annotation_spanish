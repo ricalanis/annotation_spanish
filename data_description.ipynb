{
 "cells": [
  {
   "cell_type": "code",
   "execution_count": 45,
   "id": "14875319-c3d7-488a-a6d8-8d1b9d2bcec6",
   "metadata": {},
   "outputs": [],
   "source": [
    "import pandas as pd"
   ]
  },
  {
   "cell_type": "code",
   "execution_count": 46,
   "id": "53334968-f2de-490a-b6b2-c19d8fbb92f4",
   "metadata": {},
   "outputs": [],
   "source": [
    "base_dataset = pd.read_pickle(\"prepared_dataset.pl\")"
   ]
  },
  {
   "cell_type": "code",
   "execution_count": 47,
   "id": "13e03217-da81-4162-a91b-e1c4b088140c",
   "metadata": {},
   "outputs": [
    {
     "data": {
      "text/plain": [
       "Index(['Locutor', 'text', 'Sarcasmo', 'Utsumi', 'hipérbole', 'Haverkate',\n",
       "       'Grice', 'Nakamura', 'Acto de habla', 'serie', 'origen',\n",
       "       'respuestas_modelo', 'respuestas_experto', 'respuestas_venezuela',\n",
       "       'respuestas_mexico', 'respuestas_argentina'],\n",
       "      dtype='object')"
      ]
     },
     "execution_count": 47,
     "metadata": {},
     "output_type": "execute_result"
    }
   ],
   "source": [
    "base_dataset.columns"
   ]
  },
  {
   "cell_type": "code",
   "execution_count": 48,
   "id": "6a6f7e1d-09ad-4e26-9fc5-fce6cddff7ea",
   "metadata": {},
   "outputs": [
    {
     "data": {
      "text/plain": [
       "956"
      ]
     },
     "execution_count": 48,
     "metadata": {},
     "output_type": "execute_result"
    }
   ],
   "source": [
    "base_dataset.count()[0]"
   ]
  },
  {
   "cell_type": "code",
   "execution_count": 49,
   "id": "f19d6aef-3a6c-452b-afaa-172dca3bae02",
   "metadata": {},
   "outputs": [
    {
     "data": {
      "text/plain": [
       "False    866\n",
       "True      90\n",
       "Name: Sarcasmo, dtype: int64"
      ]
     },
     "execution_count": 49,
     "metadata": {},
     "output_type": "execute_result"
    }
   ],
   "source": [
    "base_dataset[\"Sarcasmo\"].value_counts()"
   ]
  },
  {
   "cell_type": "code",
   "execution_count": 50,
   "id": "1077b2ce-21a9-4c1f-8591-3d3a98378077",
   "metadata": {},
   "outputs": [
    {
     "data": {
      "text/plain": [
       "1    642\n",
       "0    314\n",
       "Name: respuestas_modelo, dtype: int64"
      ]
     },
     "execution_count": 50,
     "metadata": {},
     "output_type": "execute_result"
    }
   ],
   "source": [
    "base_dataset[\"respuestas_modelo\"].value_counts()"
   ]
  },
  {
   "cell_type": "code",
   "execution_count": 55,
   "id": "98a8c02e-fe3e-486f-b728-93488471ce5e",
   "metadata": {},
   "outputs": [
    {
     "data": {
      "text/plain": [
       "956"
      ]
     },
     "execution_count": 55,
     "metadata": {},
     "output_type": "execute_result"
    }
   ],
   "source": [
    "len(base_dataset[\"respuestas_mexico\"])"
   ]
  },
  {
   "cell_type": "code",
   "execution_count": 51,
   "id": "83604d13-9738-4eaa-9b82-7c76f10315f1",
   "metadata": {},
   "outputs": [
    {
     "data": {
      "text/plain": [
       "0    781\n",
       "1    175\n",
       "Name: respuestas_mexico, dtype: int64"
      ]
     },
     "execution_count": 51,
     "metadata": {},
     "output_type": "execute_result"
    }
   ],
   "source": [
    "base_dataset[\"respuestas_mexico\"].value_counts()"
   ]
  },
  {
   "cell_type": "code",
   "execution_count": 56,
   "id": "5f369798-8022-4fb3-bf9a-d8085d1e04f4",
   "metadata": {},
   "outputs": [
    {
     "data": {
      "text/plain": [
       "0.18305439330543932"
      ]
     },
     "execution_count": 56,
     "metadata": {},
     "output_type": "execute_result"
    }
   ],
   "source": [
    "175/956"
   ]
  },
  {
   "cell_type": "code",
   "execution_count": 52,
   "id": "5eb04406-39db-48ef-8426-c6f2ab03e70f",
   "metadata": {},
   "outputs": [
    {
     "data": {
      "text/plain": [
       "0    880\n",
       "1     76\n",
       "Name: respuestas_argentina, dtype: int64"
      ]
     },
     "execution_count": 52,
     "metadata": {},
     "output_type": "execute_result"
    }
   ],
   "source": [
    "base_dataset[\"respuestas_argentina\"].value_counts()"
   ]
  },
  {
   "cell_type": "code",
   "execution_count": 57,
   "id": "6b1b0214-a12c-4b08-8e91-432cd73b4750",
   "metadata": {},
   "outputs": [
    {
     "data": {
      "text/plain": [
       "0.0794979079497908"
      ]
     },
     "execution_count": 57,
     "metadata": {},
     "output_type": "execute_result"
    }
   ],
   "source": [
    "76/956"
   ]
  },
  {
   "cell_type": "code",
   "execution_count": 53,
   "id": "0302c524-9e4b-425f-ad2c-7a909379d640",
   "metadata": {},
   "outputs": [
    {
     "data": {
      "text/plain": [
       "0    906\n",
       "1     50\n",
       "Name: respuestas_venezuela, dtype: int64"
      ]
     },
     "execution_count": 53,
     "metadata": {},
     "output_type": "execute_result"
    }
   ],
   "source": [
    "base_dataset[\"respuestas_venezuela\"].value_counts()"
   ]
  },
  {
   "cell_type": "code",
   "execution_count": 58,
   "id": "b1695689-933f-401f-b316-d203ef7bb7c6",
   "metadata": {},
   "outputs": [
    {
     "data": {
      "text/plain": [
       "0.05230125523012552"
      ]
     },
     "execution_count": 58,
     "metadata": {},
     "output_type": "execute_result"
    }
   ],
   "source": [
    "50/956"
   ]
  },
  {
   "cell_type": "code",
   "execution_count": 63,
   "id": "a5b5cf27-3196-4533-8b2e-a74922448f87",
   "metadata": {},
   "outputs": [],
   "source": [
    "annotation_results = base_dataset[[ 'respuestas_modelo', 'respuestas_experto', 'respuestas_venezuela',\n",
    "       'respuestas_mexico', 'respuestas_argentina']]"
   ]
  },
  {
   "cell_type": "code",
   "execution_count": 66,
   "id": "e0fa9e1d-ea89-4d6e-8ec2-7360bdcc10cc",
   "metadata": {},
   "outputs": [],
   "source": [
    "from sklearn.metrics import cohen_kappa_score"
   ]
  },
  {
   "cell_type": "code",
   "execution_count": 75,
   "id": "a6c55c7e-cf35-4271-99b9-f3c389f7d3ac",
   "metadata": {},
   "outputs": [],
   "source": [
    "output = {}\n",
    "for col in annotation_results.columns:\n",
    "    output[col] = {}\n",
    "    for col2 in annotation_results.columns:\n",
    "        output[col][col2] =cohen_kappa_score(annotation_results[col], annotation_results[col2])"
   ]
  },
  {
   "cell_type": "code",
   "execution_count": 76,
   "id": "c266d9b0-e419-4ca5-975b-976e31013fd1",
   "metadata": {},
   "outputs": [
    {
     "data": {
      "text/plain": [
       "{'respuestas_modelo': {'respuestas_modelo': 1.0,\n",
       "  'respuestas_experto': -0.03743718248914796,\n",
       "  'respuestas_venezuela': 0.007754221966277841,\n",
       "  'respuestas_mexico': 0.03944984470263424,\n",
       "  'respuestas_argentina': -0.00012227762455330193},\n",
       " 'respuestas_experto': {'respuestas_modelo': -0.03743718248914796,\n",
       "  'respuestas_experto': 1.0,\n",
       "  'respuestas_venezuela': 0.004485741749439387,\n",
       "  'respuestas_mexico': -0.029949513162639718,\n",
       "  'respuestas_argentina': 0.011143597947812611},\n",
       " 'respuestas_venezuela': {'respuestas_modelo': 0.007754221966277841,\n",
       "  'respuestas_experto': 0.004485741749439387,\n",
       "  'respuestas_venezuela': 1.0,\n",
       "  'respuestas_mexico': 0.08560728744939261,\n",
       "  'respuestas_argentina': 0.2545544765010279},\n",
       " 'respuestas_mexico': {'respuestas_modelo': 0.03944984470263424,\n",
       "  'respuestas_experto': -0.029949513162639718,\n",
       "  'respuestas_venezuela': 0.08560728744939261,\n",
       "  'respuestas_mexico': 1.0,\n",
       "  'respuestas_argentina': 0.19794146871894858},\n",
       " 'respuestas_argentina': {'respuestas_modelo': -0.00012227762455330193,\n",
       "  'respuestas_experto': 0.011143597947812611,\n",
       "  'respuestas_venezuela': 0.2545544765010279,\n",
       "  'respuestas_mexico': 0.19794146871894858,\n",
       "  'respuestas_argentina': 1.0}}"
      ]
     },
     "execution_count": 76,
     "metadata": {},
     "output_type": "execute_result"
    }
   ],
   "source": [
    "output"
   ]
  },
  {
   "cell_type": "code",
   "execution_count": 97,
   "id": "0e7de6f0-7322-4b9d-b027-7285599d9e1c",
   "metadata": {},
   "outputs": [],
   "source": [
    "from sklearn.metrics import accuracy_score,recall_score, precision_score"
   ]
  },
  {
   "cell_type": "code",
   "execution_count": 98,
   "id": "949742b3-ac87-41f6-914d-0d0d5e7b7d34",
   "metadata": {},
   "outputs": [],
   "source": [
    "output_accuracy = {}\n",
    "for col in annotation_results.columns:\n",
    "    output_accuracy[col] = {}\n",
    "    for col2 in annotation_results.columns:\n",
    "        output_accuracy[col][col2] =accuracy_score(annotation_results[col], annotation_results[col2])"
   ]
  },
  {
   "cell_type": "code",
   "execution_count": 112,
   "id": "a1027515-7aa8-428a-b12c-c01038ec7a71",
   "metadata": {},
   "outputs": [],
   "source": [
    "pd.DataFrame(output_accuracy).to_csv(\"inter_accuracy.csv\")"
   ]
  },
  {
   "cell_type": "code",
   "execution_count": 113,
   "id": "5c767ed4-1d71-4f3e-a310-fbdde30f42fb",
   "metadata": {},
   "outputs": [],
   "source": [
    "output_recall = {}\n",
    "for col in annotation_results.columns:\n",
    "    output_recall[col] = {}\n",
    "    for col2 in annotation_results.columns:\n",
    "        output_recall[col][col2] =recall_score(annotation_results[col], annotation_results[col2])"
   ]
  },
  {
   "cell_type": "code",
   "execution_count": 114,
   "id": "875603bc-ab89-43ae-8572-6d4c678b403b",
   "metadata": {},
   "outputs": [
    {
     "data": {
      "text/html": [
       "<div>\n",
       "<style scoped>\n",
       "    .dataframe tbody tr th:only-of-type {\n",
       "        vertical-align: middle;\n",
       "    }\n",
       "\n",
       "    .dataframe tbody tr th {\n",
       "        vertical-align: top;\n",
       "    }\n",
       "\n",
       "    .dataframe thead th {\n",
       "        text-align: right;\n",
       "    }\n",
       "</style>\n",
       "<table border=\"1\" class=\"dataframe\">\n",
       "  <thead>\n",
       "    <tr style=\"text-align: right;\">\n",
       "      <th></th>\n",
       "      <th>respuestas_modelo</th>\n",
       "      <th>respuestas_experto</th>\n",
       "      <th>respuestas_venezuela</th>\n",
       "      <th>respuestas_mexico</th>\n",
       "      <th>respuestas_argentina</th>\n",
       "    </tr>\n",
       "  </thead>\n",
       "  <tbody>\n",
       "    <tr>\n",
       "      <th>respuestas_modelo</th>\n",
       "      <td>1.000000</td>\n",
       "      <td>0.544444</td>\n",
       "      <td>0.72</td>\n",
       "      <td>0.737143</td>\n",
       "      <td>0.671053</td>\n",
       "    </tr>\n",
       "    <tr>\n",
       "      <th>respuestas_experto</th>\n",
       "      <td>0.076324</td>\n",
       "      <td>1.000000</td>\n",
       "      <td>0.10</td>\n",
       "      <td>0.074286</td>\n",
       "      <td>0.105263</td>\n",
       "    </tr>\n",
       "    <tr>\n",
       "      <th>respuestas_venezuela</th>\n",
       "      <td>0.056075</td>\n",
       "      <td>0.055556</td>\n",
       "      <td>1.00</td>\n",
       "      <td>0.102857</td>\n",
       "      <td>0.250000</td>\n",
       "    </tr>\n",
       "    <tr>\n",
       "      <th>respuestas_mexico</th>\n",
       "      <td>0.200935</td>\n",
       "      <td>0.144444</td>\n",
       "      <td>0.36</td>\n",
       "      <td>1.000000</td>\n",
       "      <td>0.473684</td>\n",
       "    </tr>\n",
       "    <tr>\n",
       "      <th>respuestas_argentina</th>\n",
       "      <td>0.079439</td>\n",
       "      <td>0.088889</td>\n",
       "      <td>0.38</td>\n",
       "      <td>0.205714</td>\n",
       "      <td>1.000000</td>\n",
       "    </tr>\n",
       "  </tbody>\n",
       "</table>\n",
       "</div>"
      ],
      "text/plain": [
       "                      respuestas_modelo  respuestas_experto  \\\n",
       "respuestas_modelo              1.000000            0.544444   \n",
       "respuestas_experto             0.076324            1.000000   \n",
       "respuestas_venezuela           0.056075            0.055556   \n",
       "respuestas_mexico              0.200935            0.144444   \n",
       "respuestas_argentina           0.079439            0.088889   \n",
       "\n",
       "                      respuestas_venezuela  respuestas_mexico  \\\n",
       "respuestas_modelo                     0.72           0.737143   \n",
       "respuestas_experto                    0.10           0.074286   \n",
       "respuestas_venezuela                  1.00           0.102857   \n",
       "respuestas_mexico                     0.36           1.000000   \n",
       "respuestas_argentina                  0.38           0.205714   \n",
       "\n",
       "                      respuestas_argentina  \n",
       "respuestas_modelo                 0.671053  \n",
       "respuestas_experto                0.105263  \n",
       "respuestas_venezuela              0.250000  \n",
       "respuestas_mexico                 0.473684  \n",
       "respuestas_argentina              1.000000  "
      ]
     },
     "execution_count": 114,
     "metadata": {},
     "output_type": "execute_result"
    }
   ],
   "source": [
    "pd.DataFrame(output_recall)"
   ]
  },
  {
   "cell_type": "code",
   "execution_count": 103,
   "id": "e7c71430-c14d-4064-8c5d-7217b83d1f7b",
   "metadata": {},
   "outputs": [],
   "source": [
    "output_precision = {}\n",
    "for col in annotation_results.columns:\n",
    "    output_precision[col] = {}\n",
    "    for col2 in annotation_results.columns:\n",
    "        output_precision[col][col2] =precision_score(annotation_results[col], annotation_results[col2])"
   ]
  },
  {
   "cell_type": "code",
   "execution_count": 104,
   "id": "8e7991bb-ab5f-4925-934a-0a924d88e764",
   "metadata": {},
   "outputs": [
    {
     "data": {
      "text/html": [
       "<div>\n",
       "<style scoped>\n",
       "    .dataframe tbody tr th:only-of-type {\n",
       "        vertical-align: middle;\n",
       "    }\n",
       "\n",
       "    .dataframe tbody tr th {\n",
       "        vertical-align: top;\n",
       "    }\n",
       "\n",
       "    .dataframe thead th {\n",
       "        text-align: right;\n",
       "    }\n",
       "</style>\n",
       "<table border=\"1\" class=\"dataframe\">\n",
       "  <thead>\n",
       "    <tr style=\"text-align: right;\">\n",
       "      <th></th>\n",
       "      <th>respuestas_modelo</th>\n",
       "      <th>respuestas_experto</th>\n",
       "      <th>respuestas_venezuela</th>\n",
       "      <th>respuestas_mexico</th>\n",
       "      <th>respuestas_argentina</th>\n",
       "    </tr>\n",
       "  </thead>\n",
       "  <tbody>\n",
       "    <tr>\n",
       "      <th>respuestas_modelo</th>\n",
       "      <td>1.000000</td>\n",
       "      <td>0.076324</td>\n",
       "      <td>0.056075</td>\n",
       "      <td>0.200935</td>\n",
       "      <td>0.079439</td>\n",
       "    </tr>\n",
       "    <tr>\n",
       "      <th>respuestas_experto</th>\n",
       "      <td>0.544444</td>\n",
       "      <td>1.000000</td>\n",
       "      <td>0.055556</td>\n",
       "      <td>0.144444</td>\n",
       "      <td>0.088889</td>\n",
       "    </tr>\n",
       "    <tr>\n",
       "      <th>respuestas_venezuela</th>\n",
       "      <td>0.720000</td>\n",
       "      <td>0.100000</td>\n",
       "      <td>1.000000</td>\n",
       "      <td>0.360000</td>\n",
       "      <td>0.380000</td>\n",
       "    </tr>\n",
       "    <tr>\n",
       "      <th>respuestas_mexico</th>\n",
       "      <td>0.737143</td>\n",
       "      <td>0.074286</td>\n",
       "      <td>0.102857</td>\n",
       "      <td>1.000000</td>\n",
       "      <td>0.205714</td>\n",
       "    </tr>\n",
       "    <tr>\n",
       "      <th>respuestas_argentina</th>\n",
       "      <td>0.671053</td>\n",
       "      <td>0.105263</td>\n",
       "      <td>0.250000</td>\n",
       "      <td>0.473684</td>\n",
       "      <td>1.000000</td>\n",
       "    </tr>\n",
       "  </tbody>\n",
       "</table>\n",
       "</div>"
      ],
      "text/plain": [
       "                      respuestas_modelo  respuestas_experto  \\\n",
       "respuestas_modelo              1.000000            0.076324   \n",
       "respuestas_experto             0.544444            1.000000   \n",
       "respuestas_venezuela           0.720000            0.100000   \n",
       "respuestas_mexico              0.737143            0.074286   \n",
       "respuestas_argentina           0.671053            0.105263   \n",
       "\n",
       "                      respuestas_venezuela  respuestas_mexico  \\\n",
       "respuestas_modelo                 0.056075           0.200935   \n",
       "respuestas_experto                0.055556           0.144444   \n",
       "respuestas_venezuela              1.000000           0.360000   \n",
       "respuestas_mexico                 0.102857           1.000000   \n",
       "respuestas_argentina              0.250000           0.473684   \n",
       "\n",
       "                      respuestas_argentina  \n",
       "respuestas_modelo                 0.079439  \n",
       "respuestas_experto                0.088889  \n",
       "respuestas_venezuela              0.380000  \n",
       "respuestas_mexico                 0.205714  \n",
       "respuestas_argentina              1.000000  "
      ]
     },
     "execution_count": 104,
     "metadata": {},
     "output_type": "execute_result"
    }
   ],
   "source": [
    "pd.DataFrame(output_precision)"
   ]
  },
  {
   "cell_type": "code",
   "execution_count": 111,
   "id": "22f08c11-6340-402e-b893-053d22430289",
   "metadata": {},
   "outputs": [
    {
     "data": {
      "text/html": [
       "<div>\n",
       "<style scoped>\n",
       "    .dataframe tbody tr th:only-of-type {\n",
       "        vertical-align: middle;\n",
       "    }\n",
       "\n",
       "    .dataframe tbody tr th {\n",
       "        vertical-align: top;\n",
       "    }\n",
       "\n",
       "    .dataframe thead th {\n",
       "        text-align: right;\n",
       "    }\n",
       "</style>\n",
       "<table border=\"1\" class=\"dataframe\">\n",
       "  <thead>\n",
       "    <tr style=\"text-align: right;\">\n",
       "      <th></th>\n",
       "      <th>respuestas_modelo</th>\n",
       "      <th>respuestas_experto</th>\n",
       "      <th>respuestas_venezuela</th>\n",
       "      <th>respuestas_mexico</th>\n",
       "      <th>respuestas_argentina</th>\n",
       "    </tr>\n",
       "  </thead>\n",
       "  <tbody>\n",
       "    <tr>\n",
       "      <th>0</th>\n",
       "      <td>1</td>\n",
       "      <td>0</td>\n",
       "      <td>0</td>\n",
       "      <td>0</td>\n",
       "      <td>0</td>\n",
       "    </tr>\n",
       "    <tr>\n",
       "      <th>1</th>\n",
       "      <td>1</td>\n",
       "      <td>0</td>\n",
       "      <td>1</td>\n",
       "      <td>0</td>\n",
       "      <td>0</td>\n",
       "    </tr>\n",
       "    <tr>\n",
       "      <th>2</th>\n",
       "      <td>1</td>\n",
       "      <td>0</td>\n",
       "      <td>1</td>\n",
       "      <td>1</td>\n",
       "      <td>1</td>\n",
       "    </tr>\n",
       "    <tr>\n",
       "      <th>3</th>\n",
       "      <td>1</td>\n",
       "      <td>0</td>\n",
       "      <td>0</td>\n",
       "      <td>1</td>\n",
       "      <td>0</td>\n",
       "    </tr>\n",
       "    <tr>\n",
       "      <th>4</th>\n",
       "      <td>1</td>\n",
       "      <td>0</td>\n",
       "      <td>0</td>\n",
       "      <td>0</td>\n",
       "      <td>0</td>\n",
       "    </tr>\n",
       "    <tr>\n",
       "      <th>...</th>\n",
       "      <td>...</td>\n",
       "      <td>...</td>\n",
       "      <td>...</td>\n",
       "      <td>...</td>\n",
       "      <td>...</td>\n",
       "    </tr>\n",
       "    <tr>\n",
       "      <th>951</th>\n",
       "      <td>0</td>\n",
       "      <td>0</td>\n",
       "      <td>0</td>\n",
       "      <td>0</td>\n",
       "      <td>0</td>\n",
       "    </tr>\n",
       "    <tr>\n",
       "      <th>952</th>\n",
       "      <td>1</td>\n",
       "      <td>0</td>\n",
       "      <td>0</td>\n",
       "      <td>1</td>\n",
       "      <td>0</td>\n",
       "    </tr>\n",
       "    <tr>\n",
       "      <th>953</th>\n",
       "      <td>1</td>\n",
       "      <td>0</td>\n",
       "      <td>0</td>\n",
       "      <td>0</td>\n",
       "      <td>0</td>\n",
       "    </tr>\n",
       "    <tr>\n",
       "      <th>954</th>\n",
       "      <td>1</td>\n",
       "      <td>1</td>\n",
       "      <td>1</td>\n",
       "      <td>0</td>\n",
       "      <td>1</td>\n",
       "    </tr>\n",
       "    <tr>\n",
       "      <th>955</th>\n",
       "      <td>1</td>\n",
       "      <td>0</td>\n",
       "      <td>0</td>\n",
       "      <td>1</td>\n",
       "      <td>0</td>\n",
       "    </tr>\n",
       "  </tbody>\n",
       "</table>\n",
       "<p>956 rows × 5 columns</p>\n",
       "</div>"
      ],
      "text/plain": [
       "     respuestas_modelo  respuestas_experto  respuestas_venezuela  \\\n",
       "0                    1                   0                     0   \n",
       "1                    1                   0                     1   \n",
       "2                    1                   0                     1   \n",
       "3                    1                   0                     0   \n",
       "4                    1                   0                     0   \n",
       "..                 ...                 ...                   ...   \n",
       "951                  0                   0                     0   \n",
       "952                  1                   0                     0   \n",
       "953                  1                   0                     0   \n",
       "954                  1                   1                     1   \n",
       "955                  1                   0                     0   \n",
       "\n",
       "     respuestas_mexico  respuestas_argentina  \n",
       "0                    0                     0  \n",
       "1                    0                     0  \n",
       "2                    1                     1  \n",
       "3                    1                     0  \n",
       "4                    0                     0  \n",
       "..                 ...                   ...  \n",
       "951                  0                     0  \n",
       "952                  1                     0  \n",
       "953                  0                     0  \n",
       "954                  0                     1  \n",
       "955                  1                     0  \n",
       "\n",
       "[956 rows x 5 columns]"
      ]
     },
     "execution_count": 111,
     "metadata": {},
     "output_type": "execute_result"
    }
   ],
   "source": [
    "annotation_results"
   ]
  },
  {
   "cell_type": "code",
   "execution_count": 116,
   "id": "40cb274e-9328-470c-8d66-c2ddc16bc608",
   "metadata": {},
   "outputs": [],
   "source": [
    "differenciated_results = base_dataset[[ 'respuestas_modelo', 'respuestas_experto', 'respuestas_venezuela',\n",
    "       'respuestas_mexico', 'respuestas_argentina', \"origen\"]]"
   ]
  },
  {
   "cell_type": "code",
   "execution_count": 119,
   "id": "53dc4b0e-d189-410b-a794-d7e54a257dce",
   "metadata": {},
   "outputs": [],
   "source": []
  },
  {
   "cell_type": "code",
   "execution_count": 121,
   "id": "03d336cb-a1ca-419b-bf59-dee3ca8ab251",
   "metadata": {},
   "outputs": [
    {
     "data": {
      "text/plain": [
       "0      es\n",
       "1      es\n",
       "2      es\n",
       "3      es\n",
       "4      es\n",
       "       ..\n",
       "945    es\n",
       "947    es\n",
       "948    es\n",
       "949    es\n",
       "954    es\n",
       "Name: origen, Length: 625, dtype: object"
      ]
     },
     "execution_count": 121,
     "metadata": {},
     "output_type": "execute_result"
    }
   ],
   "source": [
    "spanish_results = differenciated_results[differenciated_results[\"origen\"] == 'es']\n",
    "spanish_results.pop(\"origen\")"
   ]
  },
  {
   "cell_type": "code",
   "execution_count": 122,
   "id": "a34caa33-af18-434b-9eaa-49b440236fc6",
   "metadata": {},
   "outputs": [],
   "source": [
    "output_accuracy_es = {}\n",
    "for col in spanish_results.columns:\n",
    "    output_accuracy_es[col] = {}\n",
    "    for col2 in spanish_results.columns:\n",
    "        output_accuracy_es[col][col2] =accuracy_score(spanish_results[col], spanish_results[col2])"
   ]
  },
  {
   "cell_type": "code",
   "execution_count": 124,
   "id": "ab45cd03-2cba-4a27-8556-228f4b89764b",
   "metadata": {},
   "outputs": [
    {
     "data": {
      "text/html": [
       "<div>\n",
       "<style scoped>\n",
       "    .dataframe tbody tr th:only-of-type {\n",
       "        vertical-align: middle;\n",
       "    }\n",
       "\n",
       "    .dataframe tbody tr th {\n",
       "        vertical-align: top;\n",
       "    }\n",
       "\n",
       "    .dataframe thead th {\n",
       "        text-align: right;\n",
       "    }\n",
       "</style>\n",
       "<table border=\"1\" class=\"dataframe\">\n",
       "  <thead>\n",
       "    <tr style=\"text-align: right;\">\n",
       "      <th></th>\n",
       "      <th>respuestas_modelo</th>\n",
       "      <th>respuestas_experto</th>\n",
       "      <th>respuestas_venezuela</th>\n",
       "      <th>respuestas_mexico</th>\n",
       "      <th>respuestas_argentina</th>\n",
       "    </tr>\n",
       "  </thead>\n",
       "  <tbody>\n",
       "    <tr>\n",
       "      <th>respuestas_modelo</th>\n",
       "      <td>1.0000</td>\n",
       "      <td>0.3248</td>\n",
       "      <td>0.3424</td>\n",
       "      <td>0.4192</td>\n",
       "      <td>0.3616</td>\n",
       "    </tr>\n",
       "    <tr>\n",
       "      <th>respuestas_experto</th>\n",
       "      <td>0.3248</td>\n",
       "      <td>1.0000</td>\n",
       "      <td>0.8928</td>\n",
       "      <td>0.7648</td>\n",
       "      <td>0.8736</td>\n",
       "    </tr>\n",
       "    <tr>\n",
       "      <th>respuestas_venezuela</th>\n",
       "      <td>0.3424</td>\n",
       "      <td>0.8928</td>\n",
       "      <td>1.0000</td>\n",
       "      <td>0.7952</td>\n",
       "      <td>0.9008</td>\n",
       "    </tr>\n",
       "    <tr>\n",
       "      <th>respuestas_mexico</th>\n",
       "      <td>0.4192</td>\n",
       "      <td>0.7648</td>\n",
       "      <td>0.7952</td>\n",
       "      <td>1.0000</td>\n",
       "      <td>0.8208</td>\n",
       "    </tr>\n",
       "    <tr>\n",
       "      <th>respuestas_argentina</th>\n",
       "      <td>0.3616</td>\n",
       "      <td>0.8736</td>\n",
       "      <td>0.9008</td>\n",
       "      <td>0.8208</td>\n",
       "      <td>1.0000</td>\n",
       "    </tr>\n",
       "  </tbody>\n",
       "</table>\n",
       "</div>"
      ],
      "text/plain": [
       "                      respuestas_modelo  respuestas_experto  \\\n",
       "respuestas_modelo                1.0000              0.3248   \n",
       "respuestas_experto               0.3248              1.0000   \n",
       "respuestas_venezuela             0.3424              0.8928   \n",
       "respuestas_mexico                0.4192              0.7648   \n",
       "respuestas_argentina             0.3616              0.8736   \n",
       "\n",
       "                      respuestas_venezuela  respuestas_mexico  \\\n",
       "respuestas_modelo                   0.3424             0.4192   \n",
       "respuestas_experto                  0.8928             0.7648   \n",
       "respuestas_venezuela                1.0000             0.7952   \n",
       "respuestas_mexico                   0.7952             1.0000   \n",
       "respuestas_argentina                0.9008             0.8208   \n",
       "\n",
       "                      respuestas_argentina  \n",
       "respuestas_modelo                   0.3616  \n",
       "respuestas_experto                  0.8736  \n",
       "respuestas_venezuela                0.9008  \n",
       "respuestas_mexico                   0.8208  \n",
       "respuestas_argentina                1.0000  "
      ]
     },
     "execution_count": 124,
     "metadata": {},
     "output_type": "execute_result"
    }
   ],
   "source": [
    "pd.DataFrame(output_accuracy_es)"
   ]
  },
  {
   "cell_type": "code",
   "execution_count": 126,
   "id": "d73a0196-1263-4b92-bbe8-fa7bba8e7f76",
   "metadata": {},
   "outputs": [
    {
     "data": {
      "text/plain": [
       "410    la\n",
       "411    la\n",
       "412    la\n",
       "413    la\n",
       "414    la\n",
       "       ..\n",
       "950    la\n",
       "951    la\n",
       "952    la\n",
       "953    la\n",
       "955    la\n",
       "Name: origen, Length: 331, dtype: object"
      ]
     },
     "execution_count": 126,
     "metadata": {},
     "output_type": "execute_result"
    }
   ],
   "source": [
    "latin_results = differenciated_results[differenciated_results[\"origen\"] == 'la']\n",
    "latin_results.pop(\"origen\")"
   ]
  },
  {
   "cell_type": "code",
   "execution_count": 127,
   "id": "b9e6a29b-d58e-475c-88b1-caba10b3fd2f",
   "metadata": {},
   "outputs": [],
   "source": [
    "output_accuracy_la = {}\n",
    "for col in latin_results.columns:\n",
    "    output_accuracy_la[col] = {}\n",
    "    for col2 in spanish_results.columns:\n",
    "        output_accuracy_la[col][col2] =accuracy_score(latin_results[col], latin_results[col2])"
   ]
  },
  {
   "cell_type": "code",
   "execution_count": 131,
   "id": "e8a21735-6c18-428d-bdd5-777b44f38ca8",
   "metadata": {},
   "outputs": [],
   "source": [
    "(pd.DataFrame(output_accuracy_la) - pd.DataFrame(output_accuracy_es)).to_csv(\"differences_la_es.csv\")"
   ]
  },
  {
   "cell_type": "code",
   "execution_count": null,
   "id": "8df4c42d-2771-4ba4-a808-ff5ed0c0d2ed",
   "metadata": {},
   "outputs": [],
   "source": []
  }
 ],
 "metadata": {
  "kernelspec": {
   "display_name": "Python 3 (ipykernel)",
   "language": "python",
   "name": "python3"
  },
  "language_info": {
   "codemirror_mode": {
    "name": "ipython",
    "version": 3
   },
   "file_extension": ".py",
   "mimetype": "text/x-python",
   "name": "python",
   "nbconvert_exporter": "python",
   "pygments_lexer": "ipython3",
   "version": "3.10.8"
  }
 },
 "nbformat": 4,
 "nbformat_minor": 5
}
