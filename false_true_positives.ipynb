{
 "cells": [
  {
   "cell_type": "code",
   "execution_count": 1,
   "id": "c6fa551e-bc46-4c36-8239-62bd921e3b13",
   "metadata": {},
   "outputs": [],
   "source": [
    "import pandas as pd"
   ]
  },
  {
   "cell_type": "code",
   "execution_count": 3,
   "id": "c838440e-831d-4dbe-bad5-50ccd5c4dd3e",
   "metadata": {},
   "outputs": [],
   "source": [
    "dataset =pd.read_pickle(\"prepared_dataset.pl\")"
   ]
  },
  {
   "cell_type": "code",
   "execution_count": 5,
   "id": "1b5d9280-62fc-4d3c-94be-65fc2cb0bb48",
   "metadata": {},
   "outputs": [
    {
     "data": {
      "text/plain": [
       "Index(['Locutor', 'text', 'Sarcasmo', 'Utsumi', 'hipérbole', 'Haverkate',\n",
       "       'Grice', 'Nakamura', 'Acto de habla', 'serie', 'origen',\n",
       "       'respuestas_modelo', 'respuestas_experto', 'respuestas_venezuela',\n",
       "       'respuestas_mexico', 'respuestas_argentina'],\n",
       "      dtype='object')"
      ]
     },
     "execution_count": 5,
     "metadata": {},
     "output_type": "execute_result"
    }
   ],
   "source": [
    "dataset.columns"
   ]
  },
  {
   "cell_type": "code",
   "execution_count": 6,
   "id": "1959efda-7a49-4a12-a355-98c257fee65b",
   "metadata": {},
   "outputs": [],
   "source": [
    "dataset[\"consensus\"] = (dataset[\"respuestas_argentina\"] + dataset[\"respuestas_mexico\"] + dataset[\"respuestas_venezuela\"] >= 2).astype(int)"
   ]
  },
  {
   "cell_type": "code",
   "execution_count": 9,
   "id": "fb1cd679-d24a-4318-b21a-73132c34c8a7",
   "metadata": {
    "tags": []
   },
   "outputs": [],
   "source": [
    "discrepancies_argentina = dataset[dataset[\"respuestas_argentina\"] != dataset[\"respuestas_modelo\"]]"
   ]
  },
  {
   "cell_type": "code",
   "execution_count": 26,
   "id": "9f865b26-46fb-4229-9983-47913900164f",
   "metadata": {},
   "outputs": [],
   "source": [
    "from sklearn.metrics import confusion_matrix"
   ]
  },
  {
   "cell_type": "code",
   "execution_count": 27,
   "id": "aa938bec-ac6f-4b94-b805-6fec60870a7a",
   "metadata": {},
   "outputs": [
    {
     "data": {
      "text/plain": [
       "array([[289,  25],\n",
       "       [591,  51]])"
      ]
     },
     "execution_count": 27,
     "metadata": {},
     "output_type": "execute_result"
    }
   ],
   "source": [
    "confusion_matrix(dataset[\"respuestas_modelo\"], dataset[\"respuestas_argentina\"])"
   ]
  },
  {
   "cell_type": "code",
   "execution_count": 10,
   "id": "bc377f01-9328-45e6-8b6b-200a7f52be5c",
   "metadata": {},
   "outputs": [],
   "source": [
    "false_positives = discrepancies_argentina[ discrepancies_argentina[\"respuestas_modelo\"] == 1] "
   ]
  },
  {
   "cell_type": "code",
   "execution_count": 12,
   "id": "5a360f54-7c33-47d0-9d38-0d224c11f480",
   "metadata": {},
   "outputs": [],
   "source": [
    "false_negatives = discrepancies_argentina[ discrepancies_argentina[\"respuestas_modelo\"] == 0] "
   ]
  },
  {
   "cell_type": "code",
   "execution_count": 17,
   "id": "8687fe03-45ad-4478-b780-fe1c199333df",
   "metadata": {},
   "outputs": [
    {
     "data": {
      "text/plain": [
       "591"
      ]
     },
     "execution_count": 17,
     "metadata": {},
     "output_type": "execute_result"
    }
   ],
   "source": [
    "len(false_positives)"
   ]
  },
  {
   "cell_type": "code",
   "execution_count": 16,
   "id": "8ae87df1-fe90-4ed8-bdf4-f4c6fe07d992",
   "metadata": {},
   "outputs": [
    {
     "data": {
      "text/plain": [
       "25"
      ]
     },
     "execution_count": 16,
     "metadata": {},
     "output_type": "execute_result"
    }
   ],
   "source": [
    "len(false_negatives)"
   ]
  },
  {
   "cell_type": "code",
   "execution_count": 22,
   "id": "f121d3a7-34bf-40ae-a020-8b1f08c4ef1c",
   "metadata": {},
   "outputs": [
    {
     "data": {
      "text/plain": [
       "546"
      ]
     },
     "execution_count": 22,
     "metadata": {},
     "output_type": "execute_result"
    }
   ],
   "source": [
    "#Argentina agreement with Expert\n",
    "len(false_positives[false_positives[\"respuestas_experto\"] == 0])"
   ]
  },
  {
   "cell_type": "code",
   "execution_count": 29,
   "id": "27abb90a-dc56-4a3f-b31a-3f9213fa1b4b",
   "metadata": {},
   "outputs": [
    {
     "data": {
      "text/plain": [
       "45"
      ]
     },
     "execution_count": 29,
     "metadata": {},
     "output_type": "execute_result"
    }
   ],
   "source": [
    "#Argentina disgreement with Expert\n",
    "len(false_positives[false_positives[\"respuestas_experto\"] == 1])"
   ]
  },
  {
   "cell_type": "code",
   "execution_count": 28,
   "id": "069b2cfd-a76e-4793-92dd-0e9d4a6b3ed5",
   "metadata": {},
   "outputs": [
    {
     "data": {
      "text/plain": [
       "4"
      ]
     },
     "execution_count": 28,
     "metadata": {},
     "output_type": "execute_result"
    }
   ],
   "source": [
    "# Argentina agreement with expert\n",
    "len(false_negatives[false_negatives[\"respuestas_experto\"] == 1])"
   ]
  },
  {
   "cell_type": "code",
   "execution_count": 23,
   "id": "eda53adb-3a3d-4494-961f-f391511c7eeb",
   "metadata": {},
   "outputs": [
    {
     "data": {
      "text/plain": [
       "21"
      ]
     },
     "execution_count": 23,
     "metadata": {},
     "output_type": "execute_result"
    }
   ],
   "source": [
    "# Argentina disagreement with expert\n",
    "len(false_negatives[false_negatives[\"respuestas_experto\"] == 0])"
   ]
  },
  {
   "cell_type": "markdown",
   "id": "6b45293d-292f-4dd1-9b33-45b73f670bcc",
   "metadata": {},
   "source": [
    "## Consensus"
   ]
  },
  {
   "cell_type": "code",
   "execution_count": 46,
   "id": "a7c81a6e-3ebd-4a18-96fa-24d199f05225",
   "metadata": {},
   "outputs": [
    {
     "data": {
      "text/plain": [
       "584"
      ]
     },
     "execution_count": 46,
     "metadata": {},
     "output_type": "execute_result"
    }
   ],
   "source": [
    "#Argentina agreement with consensus for false positives\n",
    "len(false_positives[false_positives[\"consensus\"] == 0])"
   ]
  },
  {
   "cell_type": "code",
   "execution_count": 44,
   "id": "7953a8c1-640c-490f-aed7-3dbbaf0b62bd",
   "metadata": {},
   "outputs": [
    {
     "data": {
      "text/plain": [
       "7"
      ]
     },
     "execution_count": 44,
     "metadata": {},
     "output_type": "execute_result"
    }
   ],
   "source": [
    "# Argentina disagrement with consensus for false positives\n",
    "len(false_positives[false_positives[\"consensus\"] == 1])"
   ]
  },
  {
   "cell_type": "code",
   "execution_count": 43,
   "id": "f23788ca-0a43-45f7-b067-9402ec4f0127",
   "metadata": {},
   "outputs": [
    {
     "data": {
      "text/plain": [
       "12"
      ]
     },
     "execution_count": 43,
     "metadata": {},
     "output_type": "execute_result"
    }
   ],
   "source": [
    "# Argentina agreement with consensus for false negatives\n",
    "len(false_negatives[false_negatives[\"consensus\"] == 1])"
   ]
  },
  {
   "cell_type": "code",
   "execution_count": 42,
   "id": "469ba9e9-dd51-48eb-8d54-205a5db4833d",
   "metadata": {},
   "outputs": [
    {
     "data": {
      "text/plain": [
       "13"
      ]
     },
     "execution_count": 42,
     "metadata": {},
     "output_type": "execute_result"
    }
   ],
   "source": [
    "# Argentina disagreement with consensus for false negatives\n",
    "len(false_negatives[false_negatives[\"consensus\"] == 0])"
   ]
  },
  {
   "cell_type": "code",
   "execution_count": null,
   "id": "fe1b2d6b-5009-4ba2-9a38-0c34fa9ad1b0",
   "metadata": {},
   "outputs": [],
   "source": []
  }
 ],
 "metadata": {
  "kernelspec": {
   "display_name": "Python 3 (ipykernel)",
   "language": "python",
   "name": "python3"
  },
  "language_info": {
   "codemirror_mode": {
    "name": "ipython",
    "version": 3
   },
   "file_extension": ".py",
   "mimetype": "text/x-python",
   "name": "python",
   "nbconvert_exporter": "python",
   "pygments_lexer": "ipython3",
   "version": "3.10.8"
  }
 },
 "nbformat": 4,
 "nbformat_minor": 5
}
