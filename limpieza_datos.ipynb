{
 "cells": [
  {
   "cell_type": "code",
   "execution_count": 638,
   "id": "066e8468-9d9d-46fd-8ed3-843f12e1fe45",
   "metadata": {},
   "outputs": [],
   "source": [
    "import pandas as pd"
   ]
  },
  {
   "cell_type": "code",
   "execution_count": 639,
   "id": "bc55c5a0-f50b-450e-b639-810d8ac7c585",
   "metadata": {},
   "outputs": [],
   "source": [
    "model_responses = pd.read_pickle(\"model_interpretations.pl\")"
   ]
  },
  {
   "cell_type": "code",
   "execution_count": 671,
   "id": "ef56cb85-299b-489a-a7eb-0b81cf4a6ddf",
   "metadata": {},
   "outputs": [],
   "source": [
    "def get_true_false(annotation):\n",
    "    try:\n",
    "        if \"seguridad\" in annotation.lower():\n",
    "            return 0\n",
    "        if \"s\" in annotation.lower():\n",
    "            return 1\n",
    "    except:\n",
    "        None\n",
    "    return 0"
   ]
  },
  {
   "cell_type": "code",
   "execution_count": 672,
   "id": "40d1c976-84e0-4810-be63-24c83860649a",
   "metadata": {},
   "outputs": [],
   "source": [
    "personajes = pd.read_csv('relacion_personajes.csv')"
   ]
  },
  {
   "cell_type": "code",
   "execution_count": 673,
   "id": "043519ca-e6fa-4716-83b5-303744552b42",
   "metadata": {},
   "outputs": [],
   "source": [
    "prod_origen = {\"archer\": \"es\", \"south park\": \"la\"}"
   ]
  },
  {
   "cell_type": "code",
   "execution_count": 674,
   "id": "02978497-7282-41f3-b747-cc82f9ba1048",
   "metadata": {},
   "outputs": [],
   "source": [
    "personajes[\"origen\"]= personajes[\"serie\"].map(prod_origen)"
   ]
  },
  {
   "cell_type": "code",
   "execution_count": 675,
   "id": "58f737dc-857b-4f6e-94a9-118647d229a9",
   "metadata": {},
   "outputs": [],
   "source": [
    "sarcasm = pd.read_csv('sarcasmo.csv')"
   ]
  },
  {
   "cell_type": "code",
   "execution_count": 676,
   "id": "222929a5-af11-4eda-8367-6e9fdeef3847",
   "metadata": {},
   "outputs": [],
   "source": [
    "sarcasm = sarcasm.merge(personajes)"
   ]
  },
  {
   "cell_type": "code",
   "execution_count": 677,
   "id": "83e82471-3305-4fbd-b26a-8c5e708ec986",
   "metadata": {},
   "outputs": [],
   "source": [
    "sarcasm[\"respuestas_modelo\"] = model_responses.apply(lambda x: x['Sarcastic']>0.5).astype(int)"
   ]
  },
  {
   "cell_type": "code",
   "execution_count": 678,
   "id": "f142f0a6-959f-4937-9f6b-a07e10d551f6",
   "metadata": {},
   "outputs": [],
   "source": [
    "sarcasm[\"respuestas_experto\"] = sarcasm[\"Sarcasmo\"].astype(int)"
   ]
  },
  {
   "cell_type": "code",
   "execution_count": 679,
   "id": "ea67fa94-30a7-4f63-a3bd-85ed313c8bd4",
   "metadata": {},
   "outputs": [],
   "source": [
    "sarcasm = sarcasm.fillna(\"\")"
   ]
  },
  {
   "cell_type": "code",
   "execution_count": 680,
   "id": "1ea629e9-3634-4f7c-b1c8-2e8aba6dafec",
   "metadata": {},
   "outputs": [],
   "source": [
    "def clean_dataset(dataset, name):\n",
    "    dataset[\"respuestas_\"+name]= dataset[\"¿Es sarcasmo? (Si, No, No puedo decir con seguridad)\"].apply(get_true_false)\n",
    "    dataset.pop(\"¿Es sarcasmo? (Si, No, No puedo decir con seguridad)\")\n",
    "    del dataset[\"Locutor\"]\n",
    "    del dataset[\"text\"]\n",
    "    try:\n",
    "        dataset.pop('Unnamed: 3')\n",
    "    except:\n",
    "        None\n",
    "    return dataset"
   ]
  },
  {
   "cell_type": "code",
   "execution_count": 681,
   "id": "1d27745e-9253-4a20-b280-12f81d8cffbd",
   "metadata": {},
   "outputs": [],
   "source": [
    "venezuela = clean_dataset(pd.read_excel('anotacion/venezuela.xlsx'), \"venezuela\")\n"
   ]
  },
  {
   "cell_type": "code",
   "execution_count": 682,
   "id": "7cedf880-0234-463b-9817-bdb77d73624d",
   "metadata": {},
   "outputs": [],
   "source": [
    "mexico = clean_dataset(pd.read_excel('anotacion/mexico.xlsx'), \"mexico\")"
   ]
  },
  {
   "cell_type": "code",
   "execution_count": 683,
   "id": "05904214-db93-4bc2-809d-bb443a3893e1",
   "metadata": {},
   "outputs": [],
   "source": [
    "argentina_1 = clean_dataset(pd.read_excel('anotacion/argentina/argentina_katie.xlsx'), \"argentina_1\")"
   ]
  },
  {
   "cell_type": "code",
   "execution_count": 684,
   "id": "3b27fc58-283b-4c25-b5ac-51229a9651ba",
   "metadata": {},
   "outputs": [],
   "source": [
    "argentina_2 = clean_dataset(pd.read_excel('anotacion/argentina/argentina_jose.xlsx'), \"argentina_2\")"
   ]
  },
  {
   "cell_type": "code",
   "execution_count": 685,
   "id": "3770e838-0fab-49ca-8252-236ef66194f2",
   "metadata": {},
   "outputs": [],
   "source": [
    "argentina_3 = clean_dataset(pd.read_excel('anotacion/argentina/argentina_beca.xlsx'), \"argentina_3\")"
   ]
  },
  {
   "cell_type": "code",
   "execution_count": 686,
   "id": "6a431e7f-8297-45c3-9ae1-fb480ae86012",
   "metadata": {},
   "outputs": [],
   "source": [
    "argentina_df = pd.concat([argentina_1, argentina_2, argentina_3], axis=1)"
   ]
  },
  {
   "cell_type": "code",
   "execution_count": 687,
   "id": "5c810a75-4f00-45db-81fc-690296bdf573",
   "metadata": {},
   "outputs": [],
   "source": [
    "sarcasm_base = pd.read_csv('sarcasmo.csv')\n",
    "sarcasm_base = sarcasm_base.merge(personajes)\n",
    "sarcasm_base[\"respuestas_experto\"] = sarcasm[\"Sarcasmo\"].astype(int)\n",
    "sarcasm_base[\"respuestas_modelo\"] = model_responses.apply(lambda x: x['Sarcastic']>0.5).astype(int)\n",
    "argentina_set = pd.concat([sarcasm_base, argentina_df], axis=1)"
   ]
  },
  {
   "cell_type": "code",
   "execution_count": 688,
   "id": "2719165c-a3eb-4718-ae64-6fdf3bb0dc4e",
   "metadata": {},
   "outputs": [],
   "source": [
    "argentina_set.to_pickle(\"argentina_set.pl\")"
   ]
  },
  {
   "cell_type": "code",
   "execution_count": 689,
   "id": "2a88d38e-8dc6-42fc-a933-d645c13671f7",
   "metadata": {},
   "outputs": [],
   "source": [
    "argentina_list = []\n",
    "for i,x in argentina_df.iterrows():\n",
    "    argentina_list.append(x.value_counts().keys()[0])\n",
    "argentina = pd.Series(argentina_list, name=\"respuestas_argentina\")"
   ]
  },
  {
   "cell_type": "code",
   "execution_count": 690,
   "id": "435addd3-4b07-4cc1-9cdb-397b5e35ad19",
   "metadata": {},
   "outputs": [],
   "source": [
    "sarcasm_responses =pd.concat([sarcasm, venezuela, mexico, argentina], axis=1)"
   ]
  },
  {
   "cell_type": "code",
   "execution_count": 691,
   "id": "2874a306-53d3-4070-9d78-3f395d1f24f9",
   "metadata": {},
   "outputs": [
    {
     "data": {
      "text/plain": [
       "959"
      ]
     },
     "execution_count": 691,
     "metadata": {},
     "output_type": "execute_result"
    }
   ],
   "source": [
    "len(sarcasm_responses)"
   ]
  },
  {
   "cell_type": "code",
   "execution_count": 692,
   "id": "ea495730-4609-4ff3-9b2d-d1c274a4add1",
   "metadata": {},
   "outputs": [],
   "source": [
    "sarcasm_responses = sarcasm_responses[sarcasm_responses[\"serie\"] != \"na\"].reset_index(drop=True)"
   ]
  },
  {
   "cell_type": "code",
   "execution_count": 693,
   "id": "7ab0f871-38d7-4f3f-ae73-9ea15ea365cb",
   "metadata": {},
   "outputs": [
    {
     "data": {
      "text/plain": [
       "956"
      ]
     },
     "execution_count": 693,
     "metadata": {},
     "output_type": "execute_result"
    }
   ],
   "source": [
    "len(sarcasm_responses)"
   ]
  },
  {
   "cell_type": "code",
   "execution_count": null,
   "id": "0286891e-75f1-4eae-97f5-a37d5f644fa6",
   "metadata": {},
   "outputs": [],
   "source": []
  },
  {
   "cell_type": "code",
   "execution_count": 694,
   "id": "a305fd00-e32b-46db-bc7e-1fbe63a536a1",
   "metadata": {},
   "outputs": [],
   "source": [
    "sarcasm_responses.to_pickle(\"prepared_dataset.pl\")"
   ]
  },
  {
   "cell_type": "code",
   "execution_count": null,
   "id": "e96dac8f-c91e-4b16-967e-f487cd038772",
   "metadata": {},
   "outputs": [],
   "source": []
  },
  {
   "cell_type": "code",
   "execution_count": null,
   "id": "54e20b0b-e6d7-4221-8a85-9c154136d838",
   "metadata": {},
   "outputs": [],
   "source": []
  },
  {
   "cell_type": "code",
   "execution_count": null,
   "id": "a112181e-f718-4be6-9a37-a5a8f2acc48a",
   "metadata": {},
   "outputs": [],
   "source": []
  }
 ],
 "metadata": {
  "kernelspec": {
   "display_name": "Python 3 (ipykernel)",
   "language": "python",
   "name": "python3"
  },
  "language_info": {
   "codemirror_mode": {
    "name": "ipython",
    "version": 3
   },
   "file_extension": ".py",
   "mimetype": "text/x-python",
   "name": "python",
   "nbconvert_exporter": "python",
   "pygments_lexer": "ipython3",
   "version": "3.10.8"
  }
 },
 "nbformat": 4,
 "nbformat_minor": 5
}
