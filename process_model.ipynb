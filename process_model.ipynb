{
 "cells": [
  {
   "cell_type": "code",
   "execution_count": null,
   "id": "2a02bd0b-7ac5-43de-a9bb-6b3ae0d848cd",
   "metadata": {},
   "outputs": [],
   "source": [
    "#get api flask"
   ]
  },
  {
   "cell_type": "code",
   "execution_count": 1,
   "id": "04fa9b49-9d86-447d-b294-1376709832e0",
   "metadata": {},
   "outputs": [],
   "source": [
    "api_key = \"[APIKEY]\""
   ]
  },
  {
   "cell_type": "code",
   "execution_count": 2,
   "id": "dda8193f-3a78-464e-9137-ec299dd7090e",
   "metadata": {},
   "outputs": [],
   "source": [
    "import requests"
   ]
  },
  {
   "cell_type": "code",
   "execution_count": 3,
   "id": "a3f0a082-d9ce-4c5f-a1d1-0e4d77a4832e",
   "metadata": {},
   "outputs": [
    {
     "name": "stderr",
     "output_type": "stream",
     "text": [
      "/Users/ricalanis/anaconda3/lib/python3.7/site-packages/pandas/compat/_optional.py:138: UserWarning: Pandas requires version '2.7.0' or newer of 'numexpr' (version '2.6.9' currently installed).\n",
      "  warnings.warn(msg, UserWarning)\n"
     ]
    }
   ],
   "source": [
    "import pandas as pd"
   ]
  },
  {
   "cell_type": "code",
   "execution_count": 4,
   "id": "4b80f225-6c4c-428d-af0a-96536628f76c",
   "metadata": {},
   "outputs": [],
   "source": [
    "df_texts = pd.read_csv(\"sarcasmo.csv\")"
   ]
  },
  {
   "cell_type": "code",
   "execution_count": 5,
   "id": "8a63e444-585b-47e6-a54d-0d11540ef761",
   "metadata": {},
   "outputs": [],
   "source": [
    "phrases = list(df_texts['text'])"
   ]
  },
  {
   "cell_type": "code",
   "execution_count": 6,
   "id": "d2221095-86f9-441b-ae9f-6af0bab11aa3",
   "metadata": {},
   "outputs": [],
   "source": [
    "import paralleldots"
   ]
  },
  {
   "cell_type": "code",
   "execution_count": 7,
   "id": "75d84e1a-93ba-4ef5-ac84-4da1e32097a0",
   "metadata": {},
   "outputs": [],
   "source": [
    "import paralleldots\n",
    "paralleldots.set_api_key(api_key)"
   ]
  },
  {
   "cell_type": "code",
   "execution_count": 9,
   "id": "79adb298-ac5e-4db7-bb18-a692ad43e910",
   "metadata": {},
   "outputs": [
    {
     "name": "stdout",
     "output_type": "stream",
     "text": [
      "{'Non-Sarcastic': 0.5812466587, 'Sarcastic': 0.4187533413}\n"
     ]
    }
   ],
   "source": [
    "# for single sentence\n",
    "text=\"Uy, imaginate si se pusiera a trabajar\"\n",
    "response=paralleldots.sarcasm(text, lang_code= \"es\" )\n",
    "print(response)\n",
    "\n",
    "\n",
    "\n"
   ]
  },
  {
   "cell_type": "code",
   "execution_count": 12,
   "id": "c992a734-d5be-4759-a7da-a1d00f8a2d8d",
   "metadata": {},
   "outputs": [],
   "source": [
    "import time"
   ]
  },
  {
   "cell_type": "code",
   "execution_count": 13,
   "id": "2c7bb1f7-351b-4a60-97fa-b1d4ae0b0fa7",
   "metadata": {},
   "outputs": [],
   "source": [
    "def get_response(phrase):\n",
    "    time.sleep(0.4)\n",
    "    return paralleldots.sarcasm(phrase, lang_code= \"es\" )\n",
    "    "
   ]
  },
  {
   "cell_type": "code",
   "execution_count": 19,
   "id": "bf727162-ce69-4d4d-a539-2ebadb922b93",
   "metadata": {},
   "outputs": [],
   "source": [
    "output = df_texts['text'].apply(get_response)"
   ]
  },
  {
   "cell_type": "code",
   "execution_count": 20,
   "id": "f6134b65-5913-40cd-8521-a3f5632f1ba1",
   "metadata": {},
   "outputs": [],
   "source": [
    "import pickle"
   ]
  },
  {
   "cell_type": "code",
   "execution_count": 21,
   "id": "5ebe732a-38d6-4aa9-a988-7e674ab69b12",
   "metadata": {},
   "outputs": [],
   "source": [
    "pickle.dump(output, open('model_interpretations.pl', 'wb'))"
   ]
  },
  {
   "cell_type": "code",
   "execution_count": 22,
   "id": "50a9aaf8-3aa3-47f1-be92-e32a5dde18b5",
   "metadata": {},
   "outputs": [
    {
     "data": {
      "text/plain": [
       "'Tienes razón. A lo mejor así te liberas de tu energía nagativa'"
      ]
     },
     "execution_count": 22,
     "metadata": {},
     "output_type": "execute_result"
    }
   ],
   "source": [
    "df_texts['text'][2]"
   ]
  },
  {
   "cell_type": "code",
   "execution_count": 23,
   "id": "dda88e07-b10c-40f3-ab1c-cc39c5abee2c",
   "metadata": {},
   "outputs": [
    {
     "data": {
      "text/plain": [
       "{'Non-Sarcastic': 0.4280077445, 'Sarcastic': 0.5719922555}"
      ]
     },
     "execution_count": 23,
     "metadata": {},
     "output_type": "execute_result"
    }
   ],
   "source": [
    "output[2]"
   ]
  },
  {
   "cell_type": "code",
   "execution_count": 25,
   "id": "9e757bc6-7610-4e46-a89d-619510774d7a",
   "metadata": {},
   "outputs": [
    {
     "data": {
      "text/html": [
       "<div>\n",
       "<style scoped>\n",
       "    .dataframe tbody tr th:only-of-type {\n",
       "        vertical-align: middle;\n",
       "    }\n",
       "\n",
       "    .dataframe tbody tr th {\n",
       "        vertical-align: top;\n",
       "    }\n",
       "\n",
       "    .dataframe thead th {\n",
       "        text-align: right;\n",
       "    }\n",
       "</style>\n",
       "<table border=\"1\" class=\"dataframe\">\n",
       "  <thead>\n",
       "    <tr style=\"text-align: right;\">\n",
       "      <th></th>\n",
       "      <th>Non-Sarcastic</th>\n",
       "      <th>Sarcastic</th>\n",
       "    </tr>\n",
       "  </thead>\n",
       "  <tbody>\n",
       "    <tr>\n",
       "      <th>0</th>\n",
       "      <td>0.355288</td>\n",
       "      <td>0.644712</td>\n",
       "    </tr>\n",
       "    <tr>\n",
       "      <th>1</th>\n",
       "      <td>0.428325</td>\n",
       "      <td>0.571675</td>\n",
       "    </tr>\n",
       "    <tr>\n",
       "      <th>2</th>\n",
       "      <td>0.428008</td>\n",
       "      <td>0.571992</td>\n",
       "    </tr>\n",
       "    <tr>\n",
       "      <th>3</th>\n",
       "      <td>0.193469</td>\n",
       "      <td>0.806531</td>\n",
       "    </tr>\n",
       "    <tr>\n",
       "      <th>4</th>\n",
       "      <td>0.415902</td>\n",
       "      <td>0.584098</td>\n",
       "    </tr>\n",
       "    <tr>\n",
       "      <th>...</th>\n",
       "      <td>...</td>\n",
       "      <td>...</td>\n",
       "    </tr>\n",
       "    <tr>\n",
       "      <th>954</th>\n",
       "      <td>0.578572</td>\n",
       "      <td>0.421428</td>\n",
       "    </tr>\n",
       "    <tr>\n",
       "      <th>955</th>\n",
       "      <td>0.344533</td>\n",
       "      <td>0.655467</td>\n",
       "    </tr>\n",
       "    <tr>\n",
       "      <th>956</th>\n",
       "      <td>0.302047</td>\n",
       "      <td>0.697953</td>\n",
       "    </tr>\n",
       "    <tr>\n",
       "      <th>957</th>\n",
       "      <td>0.465653</td>\n",
       "      <td>0.534347</td>\n",
       "    </tr>\n",
       "    <tr>\n",
       "      <th>958</th>\n",
       "      <td>0.453223</td>\n",
       "      <td>0.546777</td>\n",
       "    </tr>\n",
       "  </tbody>\n",
       "</table>\n",
       "<p>959 rows × 2 columns</p>\n",
       "</div>"
      ],
      "text/plain": [
       "     Non-Sarcastic  Sarcastic\n",
       "0         0.355288   0.644712\n",
       "1         0.428325   0.571675\n",
       "2         0.428008   0.571992\n",
       "3         0.193469   0.806531\n",
       "4         0.415902   0.584098\n",
       "..             ...        ...\n",
       "954       0.578572   0.421428\n",
       "955       0.344533   0.655467\n",
       "956       0.302047   0.697953\n",
       "957       0.465653   0.534347\n",
       "958       0.453223   0.546777\n",
       "\n",
       "[959 rows x 2 columns]"
      ]
     },
     "execution_count": 25,
     "metadata": {},
     "output_type": "execute_result"
    }
   ],
   "source": [
    "pd.DataFrame(list(output))"
   ]
  },
  {
   "cell_type": "code",
   "execution_count": null,
   "id": "b3691b4e-f18c-4304-bb6e-e2f8aa74a001",
   "metadata": {},
   "outputs": [],
   "source": []
  }
 ],
 "metadata": {
  "kernelspec": {
   "display_name": "Python 3 (ipykernel)",
   "language": "python",
   "name": "python3"
  },
  "language_info": {
   "codemirror_mode": {
    "name": "ipython",
    "version": 3
   },
   "file_extension": ".py",
   "mimetype": "text/x-python",
   "name": "python",
   "nbconvert_exporter": "python",
   "pygments_lexer": "ipython3",
   "version": "3.10.8"
  }
 },
 "nbformat": 4,
 "nbformat_minor": 5
}
