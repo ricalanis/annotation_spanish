{
 "cells": [
  {
   "cell_type": "code",
   "execution_count": 54,
   "id": "71a700ce-def1-44a5-87cf-adba40ff25d1",
   "metadata": {},
   "outputs": [],
   "source": [
    "# In the end i did not use this as it represented a highly biased point of view of the model and would only confuse the idea.\n",
    "import pandas as pd"
   ]
  },
  {
   "cell_type": "code",
   "execution_count": 3,
   "id": "aa070fd7-bb89-4b64-90d1-644ed52b9586",
   "metadata": {},
   "outputs": [],
   "source": [
    "dataset =pd.read_pickle(\"prepared_dataset.pl\")"
   ]
  },
  {
   "cell_type": "code",
   "execution_count": 37,
   "id": "5a5e5210-8fda-48be-b81c-b74b3ac97a11",
   "metadata": {},
   "outputs": [],
   "source": [
    "from sklearn.metrics import confusion_matrix, accuracy_score, recall_score"
   ]
  },
  {
   "cell_type": "code",
   "execution_count": 7,
   "id": "548e2ca3-9e94-40e7-bd7a-c612d25b2748",
   "metadata": {},
   "outputs": [
    {
     "data": {
      "text/plain": [
       "array([[289,  25],\n",
       "       [591,  51]])"
      ]
     },
     "execution_count": 7,
     "metadata": {},
     "output_type": "execute_result"
    }
   ],
   "source": [
    "confusion_matrix(dataset[\"respuestas_modelo\"], dataset[\"respuestas_argentina\"])"
   ]
  },
  {
   "cell_type": "code",
   "execution_count": null,
   "id": "fa1ccaf3-01ea-492e-bedf-35e938b64c5d",
   "metadata": {},
   "outputs": [],
   "source": [
    "confusion_matrix(dataset[\"respuestas_modelo\"], dataset[\"respuestas_argentina\"])"
   ]
  },
  {
   "cell_type": "code",
   "execution_count": 30,
   "id": "0a69fdb0-0c71-400f-a29e-b20b8cee0e32",
   "metadata": {},
   "outputs": [
    {
     "data": {
      "text/plain": [
       "0.35564853556485354"
      ]
     },
     "execution_count": 30,
     "metadata": {},
     "output_type": "execute_result"
    }
   ],
   "source": [
    "accuracy_score(dataset[\"respuestas_modelo\"], dataset[\"respuestas_argentina\"])"
   ]
  },
  {
   "cell_type": "code",
   "execution_count": 38,
   "id": "2829b19b-5256-4479-b3dc-14cc0c08759a",
   "metadata": {},
   "outputs": [
    {
     "data": {
      "text/plain": [
       "0.0794392523364486"
      ]
     },
     "execution_count": 38,
     "metadata": {},
     "output_type": "execute_result"
    }
   ],
   "source": [
    "recall_score(dataset[\"respuestas_modelo\"], dataset[\"respuestas_argentina\"])"
   ]
  },
  {
   "cell_type": "code",
   "execution_count": 22,
   "id": "a3b660d8-1ffa-48f6-9d82-72d3718f77a5",
   "metadata": {},
   "outputs": [],
   "source": [
    "dataset[\"consensus\"] = (dataset[\"respuestas_argentina\"] + dataset[\"respuestas_mexico\"] + dataset[\"respuestas_venezuela\"] >= 2).astype(int)"
   ]
  },
  {
   "cell_type": "code",
   "execution_count": 23,
   "id": "114493e1-aad1-4b0c-8097-daa419e915e5",
   "metadata": {},
   "outputs": [],
   "source": [
    "def informed_expert_model(row):\n",
    "    if row[\"respuestas_modelo\"] == 1:\n",
    "        if row[\"respuestas_argentina\"] == 0:\n",
    "            return row[\"respuestas_experto\"]\n",
    "    return row[\"respuestas_modelo\"]"
   ]
  },
  {
   "cell_type": "code",
   "execution_count": 24,
   "id": "d99399c6-5403-45e7-9157-0a152b80b6ae",
   "metadata": {},
   "outputs": [],
   "source": [
    "dataset[\"expert_informed_model\"] = dataset.apply(informed_expert_model, axis=1)"
   ]
  },
  {
   "cell_type": "code",
   "execution_count": 25,
   "id": "9372ccf2-64dc-45cf-a793-4a74ff53329d",
   "metadata": {},
   "outputs": [
    {
     "data": {
      "text/plain": [
       "array([[835,  25],\n",
       "       [ 45,  51]])"
      ]
     },
     "execution_count": 25,
     "metadata": {},
     "output_type": "execute_result"
    }
   ],
   "source": [
    "confusion_matrix(dataset[\"expert_informed_model\"], dataset[\"respuestas_argentina\"])"
   ]
  },
  {
   "cell_type": "code",
   "execution_count": 34,
   "id": "9f673455-daf8-4d44-9def-8aedc557265c",
   "metadata": {},
   "outputs": [
    {
     "data": {
      "text/plain": [
       "0.9267782426778243"
      ]
     },
     "execution_count": 34,
     "metadata": {},
     "output_type": "execute_result"
    }
   ],
   "source": [
    "accuracy_score(dataset[\"expert_informed_model\"], dataset[\"respuestas_argentina\"])"
   ]
  },
  {
   "cell_type": "code",
   "execution_count": 39,
   "id": "15efa17e-9a7d-49eb-8898-e25b4fd4f3d6",
   "metadata": {},
   "outputs": [
    {
     "data": {
      "text/plain": [
       "0.53125"
      ]
     },
     "execution_count": 39,
     "metadata": {},
     "output_type": "execute_result"
    }
   ],
   "source": [
    "recall_score(dataset[\"expert_informed_model\"], dataset[\"respuestas_argentina\"])"
   ]
  },
  {
   "cell_type": "code",
   "execution_count": 26,
   "id": "0f1cf645-0bb4-496f-bea8-fb6a70836d70",
   "metadata": {},
   "outputs": [],
   "source": [
    "def informed_consensus_model(row):\n",
    "    if row[\"respuestas_modelo\"] == 1:\n",
    "        if row[\"respuestas_argentina\"] == 0:\n",
    "            return row[\"consensus\"]\n",
    "    return row[\"consensus\"]"
   ]
  },
  {
   "cell_type": "code",
   "execution_count": 27,
   "id": "d0007ca6-9aef-4dc0-8c26-a53d33b71e7c",
   "metadata": {},
   "outputs": [],
   "source": [
    "dataset[\"informed_consensus_model\"] = dataset.apply(informed_consensus_model, axis=1)"
   ]
  },
  {
   "cell_type": "code",
   "execution_count": 28,
   "id": "879482e4-a4fa-424f-8cb5-624aa312b5cf",
   "metadata": {},
   "outputs": [
    {
     "data": {
      "text/plain": [
       "array([[870,  29],\n",
       "       [ 10,  47]])"
      ]
     },
     "execution_count": 28,
     "metadata": {},
     "output_type": "execute_result"
    }
   ],
   "source": [
    "confusion_matrix(dataset[\"informed_consensus_model\"], dataset[\"respuestas_argentina\"])"
   ]
  },
  {
   "cell_type": "code",
   "execution_count": 42,
   "id": "029c6c37-c67e-46dc-8fa8-a787c23bfc1e",
   "metadata": {},
   "outputs": [
    {
     "data": {
      "text/plain": [
       "0.9592050209205021"
      ]
     },
     "execution_count": 42,
     "metadata": {},
     "output_type": "execute_result"
    }
   ],
   "source": [
    "accuracy_score(dataset[\"informed_consensus_model\"], dataset[\"respuestas_argentina\"])"
   ]
  },
  {
   "cell_type": "code",
   "execution_count": 43,
   "id": "e999cae4-b225-47fb-8e71-3ba7ea61112c",
   "metadata": {},
   "outputs": [
    {
     "data": {
      "text/plain": [
       "0.8245614035087719"
      ]
     },
     "execution_count": 43,
     "metadata": {},
     "output_type": "execute_result"
    }
   ],
   "source": [
    "recall_score(dataset[\"informed_consensus_model\"], dataset[\"respuestas_argentina\"])"
   ]
  },
  {
   "cell_type": "code",
   "execution_count": 44,
   "id": "6a001cc0-ca2a-4145-a3be-b4c8410889f7",
   "metadata": {},
   "outputs": [
    {
     "data": {
      "text/plain": [
       "array([[870,  29],\n",
       "       [ 10,  47]])"
      ]
     },
     "execution_count": 44,
     "metadata": {},
     "output_type": "execute_result"
    }
   ],
   "source": [
    "confusion_matrix(dataset[\"consensus\"], dataset[\"respuestas_argentina\"])"
   ]
  },
  {
   "cell_type": "code",
   "execution_count": 48,
   "id": "aa35bf9c-fff3-4b9f-af32-d143f99c5792",
   "metadata": {},
   "outputs": [
    {
     "data": {
      "text/plain": [
       "0.9592050209205021"
      ]
     },
     "execution_count": 48,
     "metadata": {},
     "output_type": "execute_result"
    }
   ],
   "source": [
    "accuracy_score(dataset[\"consensus\"], dataset[\"respuestas_argentina\"])"
   ]
  },
  {
   "cell_type": "code",
   "execution_count": 52,
   "id": "5e8fb0eb-0a12-4aa6-8c9e-a53341ccb60a",
   "metadata": {},
   "outputs": [
    {
     "data": {
      "text/plain": [
       "0.8245614035087719"
      ]
     },
     "execution_count": 52,
     "metadata": {},
     "output_type": "execute_result"
    }
   ],
   "source": [
    "recall_score(dataset[\"consensus\"], dataset[\"respuestas_argentina\"])"
   ]
  },
  {
   "cell_type": "code",
   "execution_count": 53,
   "id": "35cbab59-e923-4b7a-944d-22d9b8f08e12",
   "metadata": {},
   "outputs": [
    {
     "data": {
      "text/plain": [
       "0.618421052631579"
      ]
     },
     "execution_count": 53,
     "metadata": {},
     "output_type": "execute_result"
    }
   ],
   "source": [
    "precision_score(dataset[\"consensus\"], dataset[\"respuestas_argentina\"])"
   ]
  },
  {
   "cell_type": "code",
   "execution_count": 47,
   "id": "496f2828-afa5-426b-93db-991c31d25e2d",
   "metadata": {},
   "outputs": [
    {
     "data": {
      "text/plain": [
       "array([[798,  68],\n",
       "       [ 82,   8]])"
      ]
     },
     "execution_count": 47,
     "metadata": {},
     "output_type": "execute_result"
    }
   ],
   "source": [
    "confusion_matrix(dataset[\"respuestas_experto\"], dataset[\"respuestas_argentina\"])"
   ]
  },
  {
   "cell_type": "code",
   "execution_count": 49,
   "id": "cad79ae1-c5db-4e4c-9da0-e5037998bb3d",
   "metadata": {},
   "outputs": [
    {
     "data": {
      "text/plain": [
       "0.8430962343096234"
      ]
     },
     "execution_count": 49,
     "metadata": {},
     "output_type": "execute_result"
    }
   ],
   "source": [
    "accuracy_score(dataset[\"respuestas_experto\"], dataset[\"respuestas_argentina\"])"
   ]
  },
  {
   "cell_type": "code",
   "execution_count": 50,
   "id": "2bf13d1b-3f89-42e4-934a-9e4342f3a29b",
   "metadata": {},
   "outputs": [
    {
     "data": {
      "text/plain": [
       "0.08888888888888889"
      ]
     },
     "execution_count": 50,
     "metadata": {},
     "output_type": "execute_result"
    }
   ],
   "source": [
    "recall_score(dataset[\"respuestas_experto\"], dataset[\"respuestas_argentina\"])"
   ]
  },
  {
   "cell_type": "code",
   "execution_count": 51,
   "id": "38ccdfb9-ef45-42dc-8a74-c65944424a75",
   "metadata": {},
   "outputs": [
    {
     "data": {
      "text/plain": [
       "0.10526315789473684"
      ]
     },
     "execution_count": 51,
     "metadata": {},
     "output_type": "execute_result"
    }
   ],
   "source": [
    "precision_score(dataset[\"respuestas_experto\"], dataset[\"respuestas_argentina\"])"
   ]
  },
  {
   "cell_type": "code",
   "execution_count": null,
   "id": "12361f22-acb7-424d-92d3-e02de7ec8afe",
   "metadata": {},
   "outputs": [],
   "source": []
  }
 ],
 "metadata": {
  "kernelspec": {
   "display_name": "Python 3 (ipykernel)",
   "language": "python",
   "name": "python3"
  },
  "language_info": {
   "codemirror_mode": {
    "name": "ipython",
    "version": 3
   },
   "file_extension": ".py",
   "mimetype": "text/x-python",
   "name": "python",
   "nbconvert_exporter": "python",
   "pygments_lexer": "ipython3",
   "version": "3.10.8"
  }
 },
 "nbformat": 4,
 "nbformat_minor": 5
}
